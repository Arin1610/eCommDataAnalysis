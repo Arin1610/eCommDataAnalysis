{
 "cells": [
  {
   "cell_type": "code",
   "execution_count": 1,
   "id": "f271dc36-5f52-40de-95b3-93cff7877b73",
   "metadata": {},
   "outputs": [
    {
     "name": "stdout",
     "output_type": "stream",
     "text": [
      "Lookalike model completed and results saved to Lookalike.csv.\n"
     ]
    }
   ],
   "source": [
    "import pandas as pd\n",
    "from sklearn.preprocessing import StandardScaler\n",
    "from sklearn.metrics.pairwise import cosine_similarity\n",
    "\n",
    "# Load datasets\n",
    "customers = pd.read_csv(\"Customers.csv\")\n",
    "transactions = pd.read_csv(\"Transactions.csv\")\n",
    "\n",
    "# Merge datasets\n",
    "merged_data = transactions.merge(customers, on=\"CustomerID\")\n",
    "\n",
    "# Feature Engineering\n",
    "customer_summary = merged_data.groupby(\"CustomerID\").agg(\n",
    "    total_spent=(\"TotalValue\", \"sum\"),\n",
    "    avg_spent=(\"TotalValue\", \"mean\"),\n",
    "    total_transactions=(\"TransactionID\", \"count\"),\n",
    "    region=(\"Region\", \"first\")  # Assuming region is categorical\n",
    ").reset_index()\n",
    "\n",
    "# One-hot encoding for categorical features (Region)\n",
    "customer_summary = pd.get_dummies(customer_summary, columns=[\"region\"], drop_first=True)\n",
    "\n",
    "# Normalize features\n",
    "features = customer_summary.drop(\"CustomerID\", axis=1)\n",
    "scaler = StandardScaler()\n",
    "scaled_features = scaler.fit_transform(features)\n",
    "\n",
    "# Calculate cosine similarity\n",
    "similarity_matrix = cosine_similarity(scaled_features)\n",
    "\n",
    "# Generate recommendations\n",
    "lookalike_map = {}\n",
    "for i in range(len(similarity_matrix)):\n",
    "    # Get similarity scores for all customers except self\n",
    "    similar_indices = similarity_matrix[i].argsort()[-4:-1][::-1]  # Top 3 excluding self\n",
    "    similar_customers = customer_summary.iloc[similar_indices][\"CustomerID\"].values\n",
    "    scores = similarity_matrix[i][similar_indices]\n",
    "    \n",
    "    # Create mapping for customer ID to their lookalikes and scores\n",
    "    lookalike_map[customer_summary.iloc[i][\"CustomerID\"]] = list(zip(similar_customers, scores))\n",
    "\n",
    "# Convert to DataFrame for saving to CSV\n",
    "lookalike_df = pd.DataFrame([(cust_id, similar_cust, score) \n",
    "                              for cust_id, similar_list in lookalike_map.items() \n",
    "                              for similar_cust, score in similar_list],\n",
    "                             columns=[\"CustomerID\", \"LookalikeID\", \"SimilarityScore\"])\n",
    "\n",
    "# Filter for first 20 customers (C0001 - C0020)\n",
    "lookalike_df_filtered = lookalike_df[lookalike_df[\"CustomerID\"].isin(customer_summary[\"CustomerID\"].head(20))]\n",
    "\n",
    "# Save to CSV\n",
    "lookalike_df_filtered.to_csv(\"Lookalike.csv\", index=False)\n",
    "\n",
    "print(\"Lookalike model completed and results saved to Lookalike.csv.\")\n"
   ]
  },
  {
   "cell_type": "code",
   "execution_count": null,
   "id": "9f2e8d01-f6f6-47d6-82d5-48d153784803",
   "metadata": {},
   "outputs": [],
   "source": []
  }
 ],
 "metadata": {
  "kernelspec": {
   "display_name": "Python 3 (ipykernel)",
   "language": "python",
   "name": "python3"
  },
  "language_info": {
   "codemirror_mode": {
    "name": "ipython",
    "version": 3
   },
   "file_extension": ".py",
   "mimetype": "text/x-python",
   "name": "python",
   "nbconvert_exporter": "python",
   "pygments_lexer": "ipython3",
   "version": "3.11.7"
  }
 },
 "nbformat": 4,
 "nbformat_minor": 5
}
